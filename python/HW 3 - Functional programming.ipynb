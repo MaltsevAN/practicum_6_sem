{
 "cells": [
  {
   "cell_type": "markdown",
   "metadata": {},
   "source": [
    "# Session 4 - Functional programming"
   ]
  },
  {
   "cell_type": "markdown",
   "metadata": {},
   "source": [
    "You are motivated to use generators and generator expressions as well as zip, map and filter built-in functions and also itertools and functools modules."
   ]
  },
  {
   "cell_type": "code",
   "execution_count": 27,
   "metadata": {},
   "outputs": [],
   "source": [
    "from functools import reduce\n",
    "import random"
   ]
  },
  {
   "cell_type": "markdown",
   "metadata": {},
   "source": [
    "## Task 1 (5 points)\n",
    "Use functional tools to implement discrete convolution of two lists of numerical values (e.g. $\\sum_{i= 0}^n a_i \\cdot b_{n-i}$)"
   ]
  },
  {
   "cell_type": "code",
   "execution_count": 28,
   "metadata": {},
   "outputs": [
    {
     "name": "stdout",
     "output_type": "stream",
     "text": [
      "[4, 10, 9, 3, 6, 10, 8, 10, 2, 10]\n",
      "[1, 8, 5, 9, 4, 4, 8, 9, 9, 8]\n"
     ]
    }
   ],
   "source": [
    "n = 10\n",
    "A = [random.randint(1,10) for i in range(n)]\n",
    "B = [random.randint(1,10) for i in range(n)]\n",
    "print(A)\n",
    "print(B)"
   ]
  },
  {
   "cell_type": "code",
   "execution_count": 29,
   "metadata": {},
   "outputs": [
    {
     "name": "stdout",
     "output_type": "stream",
     "text": [
      "2.98 µs ± 274 ns per loop (mean ± std. dev. of 50 runs, 100000 loops each)\n"
     ]
    }
   ],
   "source": [
    "%%timeit -r 50\n",
    "# common approach\n",
    "s = 0\n",
    "for i in range(n):\n",
    "    s += A[i]*B[n-i-1]"
   ]
  },
  {
   "cell_type": "code",
   "execution_count": 30,
   "metadata": {},
   "outputs": [
    {
     "name": "stdout",
     "output_type": "stream",
     "text": [
      "439\n"
     ]
    }
   ],
   "source": [
    "s = 0\n",
    "for i in range(n):\n",
    "    s += A[i]*B[n-i-1]\n",
    "print(s)"
   ]
  },
  {
   "cell_type": "code",
   "execution_count": 31,
   "metadata": {},
   "outputs": [
    {
     "name": "stdout",
     "output_type": "stream",
     "text": [
      "2.72 µs ± 279 ns per loop (mean ± std. dev. of 50 runs, 100000 loops each)\n"
     ]
    }
   ],
   "source": [
    "%%timeit -r 50\n",
    "# with  functional tools \n",
    "s = sum((map(lambda x,y: x*y, A, B[::-1])))"
   ]
  },
  {
   "cell_type": "code",
   "execution_count": 32,
   "metadata": {},
   "outputs": [
    {
     "name": "stdout",
     "output_type": "stream",
     "text": [
      "439\n"
     ]
    }
   ],
   "source": [
    "s = sum((map(lambda x,y: x*y, A, B[::-1])))\n",
    "print(s)"
   ]
  },
  {
   "cell_type": "markdown",
   "metadata": {},
   "source": [
    "## Task 2 (5 points)\n",
    "Use functional tools to implement function, which calculates multiplication of two matrices"
   ]
  },
  {
   "cell_type": "code",
   "execution_count": 33,
   "metadata": {},
   "outputs": [
    {
     "name": "stdout",
     "output_type": "stream",
     "text": [
      "A:\n",
      "[7, 3, 4]\n",
      "[3, 9, 7]\n",
      "B:\n",
      "[1, 2, 3, 10]\n",
      "[1, 5, 1, 5]\n",
      "[8, 10, 7, 7]\n"
     ]
    }
   ],
   "source": [
    "n, m, p = 2, 3, 4\n",
    "A = [[random.randint(1,10) for i in range(m)] for i in range(n)]\n",
    "B = [[random.randint(1,10) for i in range(p)] for i in range(m)]\n",
    "def print_matrix(A):\n",
    "    for el in A:\n",
    "        print(el)\n",
    "print('A:')\n",
    "print_matrix(A)\n",
    "print('B:')\n",
    "print_matrix(B)"
   ]
  },
  {
   "cell_type": "code",
   "execution_count": 34,
   "metadata": {},
   "outputs": [
    {
     "name": "stdout",
     "output_type": "stream",
     "text": [
      "17.6 µs ± 1.8 µs per loop (mean ± std. dev. of 10 runs, 100000 loops each)\n"
     ]
    }
   ],
   "source": [
    "%%timeit -r 10\n",
    "# common aproach\n",
    "result = [[0] * p  for i in range(n)]\n",
    "for i in range(len(A)):\n",
    "    for j in range(len(B[0])):\n",
    "        for k in range(len(B)):\n",
    "            result[i][j] += A[i][k] * B[k][j]"
   ]
  },
  {
   "cell_type": "code",
   "execution_count": 35,
   "metadata": {},
   "outputs": [
    {
     "name": "stdout",
     "output_type": "stream",
     "text": [
      "res:\n",
      "[42, 69, 52, 113]\n",
      "[68, 121, 67, 124]\n"
     ]
    }
   ],
   "source": [
    "result = [[0] * p  for i in range(n)]\n",
    "for i in range(len(A)):\n",
    "    for j in range(len(B[0])):\n",
    "        for k in range(len(B)):\n",
    "            result[i][j] += A[i][k] * B[k][j]\n",
    "print('res:')\n",
    "print_matrix(result)"
   ]
  },
  {
   "cell_type": "code",
   "execution_count": 36,
   "metadata": {},
   "outputs": [
    {
     "name": "stdout",
     "output_type": "stream",
     "text": [
      "15.2 µs ± 1.46 µs per loop (mean ± std. dev. of 10 runs, 100000 loops each)\n"
     ]
    }
   ],
   "source": [
    "%%timeit -r 10\n",
    "# with  functional tools\n",
    "result = [[sum(a * b for a, b in zip(A_row, B_col)) \n",
    "           for B_col in zip(*B)] for A_row in A]"
   ]
  },
  {
   "cell_type": "code",
   "execution_count": 37,
   "metadata": {},
   "outputs": [
    {
     "name": "stdout",
     "output_type": "stream",
     "text": [
      "res:\n",
      "[42, 69, 52, 113]\n",
      "[68, 121, 67, 124]\n"
     ]
    }
   ],
   "source": [
    "result = [[sum(a * b for a, b in zip(A_row, B_col)) \n",
    "           for B_col in zip(*B)] for A_row in A]\n",
    "print('res:')\n",
    "print_matrix(result)"
   ]
  },
  {
   "cell_type": "markdown",
   "metadata": {},
   "source": [
    "## Task 3 (5 points)\n",
    "Write a generator for the Cauchy product of two random number generators (https://en.wikipedia.org/wiki/Cauchy_product)"
   ]
  },
  {
   "cell_type": "code",
   "execution_count": 38,
   "metadata": {},
   "outputs": [
    {
     "name": "stdout",
     "output_type": "stream",
     "text": [
      "[7, 10, 8, 3, 6, 2, 1, 3, 8, 4]\n",
      "[5, 7, 5, 7, 9, 7, 10, 6, 9, 10]\n",
      "[35, 99, 145, 170, 224, 262, 282, 299, 358, 396]\n"
     ]
    }
   ],
   "source": [
    "n = 10\n",
    "A = [random.randint(1,10) for i in range(n)]\n",
    "B = [random.randint(1,10) for i in range(n)]\n",
    "print(A)\n",
    "print(B)\n",
    "Cauchy = (sum(x * y for x, y in zip(A[:k+1], B[:k+1][::-1])) for k in range(n))\n",
    "print(list(Cauchy))"
   ]
  },
  {
   "cell_type": "markdown",
   "metadata": {},
   "source": [
    "## Task 4 (5 points)\n",
    "Write generator function, which yields contents of all files of specific type in a given folder. Use this function to load one by one the contents of the CSV files stored in the Data folder and print the number of sample values in time-series data stored in each file and their average value.\n"
   ]
  },
  {
   "cell_type": "code",
   "execution_count": 15,
   "metadata": {},
   "outputs": [],
   "source": [
    "import os"
   ]
  },
  {
   "cell_type": "code",
   "execution_count": 39,
   "metadata": {},
   "outputs": [],
   "source": [
    "# get_file function_generator\n",
    "def get_file(directory, need_type):\n",
    "    for _, _, files in os.walk(directory):\n",
    "        for file in files:\n",
    "            if file.endswith('.' + need_type):\n",
    "                yield directory +'/'+ file"
   ]
  },
  {
   "cell_type": "code",
   "execution_count": 40,
   "metadata": {},
   "outputs": [],
   "source": [
    "need_type = 'csv'\n",
    "directory = './Data'"
   ]
  },
  {
   "cell_type": "code",
   "execution_count": 41,
   "metadata": {},
   "outputs": [],
   "source": [
    "# read information to list\n",
    "List_files = [(name,[float(x) for x in wrapper]) for wrapper, name \n",
    "          in ((open(file), file) for file in (f for f in get_file('Data', 'csv')))]"
   ]
  },
  {
   "cell_type": "code",
   "execution_count": 42,
   "metadata": {},
   "outputs": [],
   "source": [
    "# read information to dict\n",
    "Dict_files = {name: [float(x) for x in wrapper] for wrapper, name \n",
    "          in ((open(file), file) for file in (f for f in get_file('Data', 'csv')))}"
   ]
  },
  {
   "cell_type": "code",
   "execution_count": 43,
   "metadata": {},
   "outputs": [
    {
     "name": "stdout",
     "output_type": "stream",
     "text": [
      "====================\n",
      "Data/Sample_4.csv\n",
      "Len =  10000\n",
      "0.08796882619023505\n",
      "====================\n",
      "====================\n",
      "Data/Sample_5.csv\n",
      "Len =  10000\n",
      "0.042725907958939754\n",
      "====================\n",
      "====================\n",
      "Data/Sample_3.csv\n",
      "Len =  10000\n",
      "0.08957826558299582\n",
      "====================\n",
      "====================\n",
      "Data/Sample_1.csv\n",
      "Len =  10000\n",
      "1.9970213675529882\n",
      "====================\n",
      "====================\n",
      "Data/Sample_2.csv\n",
      "Len =  10000\n",
      "-0.006486319484654802\n",
      "====================\n",
      "====================\n",
      "Data/Sample_6.csv\n",
      "Len =  10000\n",
      "0.009367580850572524\n",
      "====================\n"
     ]
    }
   ],
   "source": [
    "# Information\n",
    "for i in Dict_files.keys():\n",
    "    print('=' * 20)\n",
    "    print(i)\n",
    "    l = len(Dict_files[i])\n",
    "    print('Len = ', l)\n",
    "    print(reduce(lambda x, y: x + y, Dict_files[i]) / l)\n",
    "    print('=' * 20)"
   ]
  },
  {
   "cell_type": "markdown",
   "metadata": {},
   "source": [
    "## Task 5 (5 points)\n",
    "Write generator function, which yields a random sequence imitating a random walk. For example, it can resemble a stock exchange or currency exchange time series data."
   ]
  },
  {
   "cell_type": "markdown",
   "metadata": {},
   "source": [
    "https://machinelearningmastery.com/gentle-introduction-random-walk-times-series-forecasting-python/"
   ]
  },
  {
   "cell_type": "code",
   "execution_count": 46,
   "metadata": {},
   "outputs": [
    {
     "data": {
      "image/png": "[encoded data removed]",
      "text/plain": [
       "<matplotlib.figure.Figure at 0x7f7a844f62b0>"
      ]
     },
     "metadata": {},
     "output_type": "display_data"
    }
   ],
   "source": [
    "from matplotlib import pyplot\n",
    "def random_walk(random_seed = 1):\n",
    "    # установка начального значения генератора, чтобы каждый раз было одно и тоже\n",
    "    seed(random_seed)\n",
    "    random_walk = list()\n",
    "    random_walk.append(-1 if random.random() < 0.5 else 1)\n",
    "    for i in range(1, 1000):\n",
    "        movement = -1 if random.random() < 0.5 else 1\n",
    "        value = random_walk[i-1] + movement\n",
    "        random_walk.append(value)\n",
    "    return random_walk\n",
    "pyplot.plot(random_walk(3))\n",
    "pyplot.show()"
   ]
  },
  {
   "cell_type": "code",
   "execution_count": null,
   "metadata": {},
   "outputs": [],
   "source": []
  }
 ],
 "metadata": {
  "kernelspec": {
   "display_name": "Python 3",
   "language": "python",
   "name": "python3"
  },
  "language_info": {
   "codemirror_mode": {
    "name": "ipython",
    "version": 3
   },
   "file_extension": ".py",
   "mimetype": "text/x-python",
   "name": "python",
   "nbconvert_exporter": "python",
   "pygments_lexer": "ipython3",
   "version": "3.6.4"
  }
 },
 "nbformat": 4,
 "nbformat_minor": 2
}
