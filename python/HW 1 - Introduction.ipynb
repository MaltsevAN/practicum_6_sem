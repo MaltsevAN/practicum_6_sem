{
 "cells": [
  {
   "cell_type": "markdown",
   "metadata": {},
   "source": [
    "# HW 1 - Introduction\n",
    "\n",
    "All task will use the same sample code listed below. Just copy and then modify it when required."
   ]
  },
  {
   "cell_type": "code",
   "execution_count": 1,
   "metadata": {},
   "outputs": [],
   "source": [
    "#Sample code written by an imaginary unexperienced user of Python\n",
    "#Function calculates the average number of occurances for each element\n",
    "#in a given sequence\n",
    "def AverageCounter(sequence):\n",
    "    length = len(sequence)\n",
    "    elements = {}\n",
    "    for i in range(1, length):\n",
    "        elements[sequence[i]] = 0.0\n",
    "    for element in elements.keys():\n",
    "        for i in range(1,length):\n",
    "            elements[element] += sequence[i]\n",
    "        elements[element] /= length\n",
    "    print(elements)    \n",
    "    return elements"
   ]
  },
  {
   "cell_type": "markdown",
   "metadata": {},
   "source": [
    "## Task 1. Debugging (5 points)\n",
    "Use iPython magic commands to debug a sample Python's script. If necessary use introspection to checkout debug magic commands usage."
   ]
  },
  {
   "cell_type": "markdown",
   "metadata": {},
   "source": [
    "python magic:\n",
    "http://ipython.readthedocs.io/en/stable/interactive/magics.html"
   ]
  },
  {
   "cell_type": "code",
   "execution_count": 3,
   "metadata": {},
   "outputs": [
    {
     "name": "stdout",
     "output_type": "stream",
     "text": [
      "NOTE: Enter 'c' at the ipdb>  prompt to continue execution.\n",
      "> \u001b[0;32m<string>\u001b[0m(2)\u001b[0;36m<module>\u001b[0;34m()\u001b[0m\n",
      "\n",
      "ipdb> help\n",
      "\n",
      "Documented commands (type help <topic>):\n",
      "========================================\n",
      "EOF    cl         disable  interact  next    psource  rv         unt   \n",
      "a      clear      display  j         p       q        s          until \n",
      "alias  commands   down     jump      pdef    quit     source     up    \n",
      "args   condition  enable   l         pdoc    r        step       w     \n",
      "b      cont       exit     list      pfile   restart  tbreak     whatis\n",
      "break  continue   h        ll        pinfo   return   u          where \n",
      "bt     d          help     longlist  pinfo2  retval   unalias  \n",
      "c      debug      ignore   n         pp      run      undisplay\n",
      "\n",
      "Miscellaneous help topics:\n",
      "==========================\n",
      "exec  pdb\n",
      "\n",
      "ipdb> step\n",
      "--Call--\n",
      "> \u001b[0;32m<ipython-input-1-39f32459868b>\u001b[0m(4)\u001b[0;36mAverageCounter\u001b[0;34m()\u001b[0m\n",
      "\u001b[0;32m      2 \u001b[0;31m\u001b[0;31m#Function calculates the average number of occurances for each element\u001b[0m\u001b[0;34m\u001b[0m\u001b[0;34m\u001b[0m\u001b[0m\n",
      "\u001b[0m\u001b[0;32m      3 \u001b[0;31m\u001b[0;31m#in a given sequence\u001b[0m\u001b[0;34m\u001b[0m\u001b[0;34m\u001b[0m\u001b[0m\n",
      "\u001b[0m\u001b[0;32m----> 4 \u001b[0;31m\u001b[0;32mdef\u001b[0m \u001b[0mAverageCounter\u001b[0m\u001b[0;34m(\u001b[0m\u001b[0msequence\u001b[0m\u001b[0;34m)\u001b[0m\u001b[0;34m:\u001b[0m\u001b[0;34m\u001b[0m\u001b[0m\n",
      "\u001b[0m\u001b[0;32m      5 \u001b[0;31m    \u001b[0mlength\u001b[0m \u001b[0;34m=\u001b[0m \u001b[0mlen\u001b[0m\u001b[0;34m(\u001b[0m\u001b[0msequence\u001b[0m\u001b[0;34m)\u001b[0m\u001b[0;34m\u001b[0m\u001b[0m\n",
      "\u001b[0m\u001b[0;32m      6 \u001b[0;31m    \u001b[0melements\u001b[0m \u001b[0;34m=\u001b[0m \u001b[0;34m{\u001b[0m\u001b[0;34m}\u001b[0m\u001b[0;34m\u001b[0m\u001b[0m\n",
      "\u001b[0m\n",
      "ipdb> step\n",
      "> \u001b[0;32m<ipython-input-1-39f32459868b>\u001b[0m(5)\u001b[0;36mAverageCounter\u001b[0;34m()\u001b[0m\n",
      "\u001b[0;32m      3 \u001b[0;31m\u001b[0;31m#in a given sequence\u001b[0m\u001b[0;34m\u001b[0m\u001b[0;34m\u001b[0m\u001b[0m\n",
      "\u001b[0m\u001b[0;32m      4 \u001b[0;31m\u001b[0;32mdef\u001b[0m \u001b[0mAverageCounter\u001b[0m\u001b[0;34m(\u001b[0m\u001b[0msequence\u001b[0m\u001b[0;34m)\u001b[0m\u001b[0;34m:\u001b[0m\u001b[0;34m\u001b[0m\u001b[0m\n",
      "\u001b[0m\u001b[0;32m----> 5 \u001b[0;31m    \u001b[0mlength\u001b[0m \u001b[0;34m=\u001b[0m \u001b[0mlen\u001b[0m\u001b[0;34m(\u001b[0m\u001b[0msequence\u001b[0m\u001b[0;34m)\u001b[0m\u001b[0;34m\u001b[0m\u001b[0m\n",
      "\u001b[0m\u001b[0;32m      6 \u001b[0;31m    \u001b[0melements\u001b[0m \u001b[0;34m=\u001b[0m \u001b[0;34m{\u001b[0m\u001b[0;34m}\u001b[0m\u001b[0;34m\u001b[0m\u001b[0m\n",
      "\u001b[0m\u001b[0;32m      7 \u001b[0;31m    \u001b[0;32mfor\u001b[0m \u001b[0mi\u001b[0m \u001b[0;32min\u001b[0m \u001b[0mrange\u001b[0m\u001b[0;34m(\u001b[0m\u001b[0;36m1\u001b[0m\u001b[0;34m,\u001b[0m \u001b[0mlength\u001b[0m\u001b[0;34m)\u001b[0m\u001b[0;34m:\u001b[0m\u001b[0;34m\u001b[0m\u001b[0m\n",
      "\u001b[0m\n",
      "ipdb> step\n",
      "> \u001b[0;32m<ipython-input-1-39f32459868b>\u001b[0m(6)\u001b[0;36mAverageCounter\u001b[0;34m()\u001b[0m\n",
      "\u001b[0;32m      4 \u001b[0;31m\u001b[0;32mdef\u001b[0m \u001b[0mAverageCounter\u001b[0m\u001b[0;34m(\u001b[0m\u001b[0msequence\u001b[0m\u001b[0;34m)\u001b[0m\u001b[0;34m:\u001b[0m\u001b[0;34m\u001b[0m\u001b[0m\n",
      "\u001b[0m\u001b[0;32m      5 \u001b[0;31m    \u001b[0mlength\u001b[0m \u001b[0;34m=\u001b[0m \u001b[0mlen\u001b[0m\u001b[0;34m(\u001b[0m\u001b[0msequence\u001b[0m\u001b[0;34m)\u001b[0m\u001b[0;34m\u001b[0m\u001b[0m\n",
      "\u001b[0m\u001b[0;32m----> 6 \u001b[0;31m    \u001b[0melements\u001b[0m \u001b[0;34m=\u001b[0m \u001b[0;34m{\u001b[0m\u001b[0;34m}\u001b[0m\u001b[0;34m\u001b[0m\u001b[0m\n",
      "\u001b[0m\u001b[0;32m      7 \u001b[0;31m    \u001b[0;32mfor\u001b[0m \u001b[0mi\u001b[0m \u001b[0;32min\u001b[0m \u001b[0mrange\u001b[0m\u001b[0;34m(\u001b[0m\u001b[0;36m1\u001b[0m\u001b[0;34m,\u001b[0m \u001b[0mlength\u001b[0m\u001b[0;34m)\u001b[0m\u001b[0;34m:\u001b[0m\u001b[0;34m\u001b[0m\u001b[0m\n",
      "\u001b[0m\u001b[0;32m      8 \u001b[0;31m        \u001b[0melements\u001b[0m\u001b[0;34m[\u001b[0m\u001b[0msequence\u001b[0m\u001b[0;34m[\u001b[0m\u001b[0mi\u001b[0m\u001b[0;34m]\u001b[0m\u001b[0;34m]\u001b[0m \u001b[0;34m=\u001b[0m \u001b[0;36m0.0\u001b[0m\u001b[0;34m\u001b[0m\u001b[0m\n",
      "\u001b[0m\n",
      "ipdb> until 9\n",
      "> \u001b[0;32m<ipython-input-1-39f32459868b>\u001b[0m(9)\u001b[0;36mAverageCounter\u001b[0;34m()\u001b[0m\n",
      "\u001b[0;32m      7 \u001b[0;31m    \u001b[0;32mfor\u001b[0m \u001b[0mi\u001b[0m \u001b[0;32min\u001b[0m \u001b[0mrange\u001b[0m\u001b[0;34m(\u001b[0m\u001b[0;36m1\u001b[0m\u001b[0;34m,\u001b[0m \u001b[0mlength\u001b[0m\u001b[0;34m)\u001b[0m\u001b[0;34m:\u001b[0m\u001b[0;34m\u001b[0m\u001b[0m\n",
      "\u001b[0m\u001b[0;32m      8 \u001b[0;31m        \u001b[0melements\u001b[0m\u001b[0;34m[\u001b[0m\u001b[0msequence\u001b[0m\u001b[0;34m[\u001b[0m\u001b[0mi\u001b[0m\u001b[0;34m]\u001b[0m\u001b[0;34m]\u001b[0m \u001b[0;34m=\u001b[0m \u001b[0;36m0.0\u001b[0m\u001b[0;34m\u001b[0m\u001b[0m\n",
      "\u001b[0m\u001b[0;32m----> 9 \u001b[0;31m    \u001b[0;32mfor\u001b[0m \u001b[0melement\u001b[0m \u001b[0;32min\u001b[0m \u001b[0melements\u001b[0m\u001b[0;34m.\u001b[0m\u001b[0mkeys\u001b[0m\u001b[0;34m(\u001b[0m\u001b[0;34m)\u001b[0m\u001b[0;34m:\u001b[0m\u001b[0;34m\u001b[0m\u001b[0m\n",
      "\u001b[0m\u001b[0;32m     10 \u001b[0;31m        \u001b[0;32mfor\u001b[0m \u001b[0mi\u001b[0m \u001b[0;32min\u001b[0m \u001b[0mrange\u001b[0m\u001b[0;34m(\u001b[0m\u001b[0;36m1\u001b[0m\u001b[0;34m,\u001b[0m\u001b[0mlength\u001b[0m\u001b[0;34m)\u001b[0m\u001b[0;34m:\u001b[0m\u001b[0;34m\u001b[0m\u001b[0m\n",
      "\u001b[0m\u001b[0;32m     11 \u001b[0;31m            \u001b[0melements\u001b[0m\u001b[0;34m[\u001b[0m\u001b[0melement\u001b[0m\u001b[0;34m]\u001b[0m \u001b[0;34m+=\u001b[0m \u001b[0msequence\u001b[0m\u001b[0;34m[\u001b[0m\u001b[0mi\u001b[0m\u001b[0;34m]\u001b[0m\u001b[0;34m\u001b[0m\u001b[0m\n",
      "\u001b[0m\n",
      "ipdb> display elements\n",
      "display elements: {4: 0.0, 5: 0.0, 6: 0.0, 7: 0.0, 2: 0.0, 3: 0.0}\n",
      "ipdb> until 12\n",
      "> \u001b[0;32m<ipython-input-1-39f32459868b>\u001b[0m(12)\u001b[0;36mAverageCounter\u001b[0;34m()\u001b[0m\n",
      "\u001b[0;32m     10 \u001b[0;31m        \u001b[0;32mfor\u001b[0m \u001b[0mi\u001b[0m \u001b[0;32min\u001b[0m \u001b[0mrange\u001b[0m\u001b[0;34m(\u001b[0m\u001b[0;36m1\u001b[0m\u001b[0;34m,\u001b[0m\u001b[0mlength\u001b[0m\u001b[0;34m)\u001b[0m\u001b[0;34m:\u001b[0m\u001b[0;34m\u001b[0m\u001b[0m\n",
      "\u001b[0m\u001b[0;32m     11 \u001b[0;31m            \u001b[0melements\u001b[0m\u001b[0;34m[\u001b[0m\u001b[0melement\u001b[0m\u001b[0;34m]\u001b[0m \u001b[0;34m+=\u001b[0m \u001b[0msequence\u001b[0m\u001b[0;34m[\u001b[0m\u001b[0mi\u001b[0m\u001b[0;34m]\u001b[0m\u001b[0;34m\u001b[0m\u001b[0m\n",
      "\u001b[0m\u001b[0;32m---> 12 \u001b[0;31m        \u001b[0melements\u001b[0m\u001b[0;34m[\u001b[0m\u001b[0melement\u001b[0m\u001b[0;34m]\u001b[0m \u001b[0;34m/=\u001b[0m \u001b[0mlength\u001b[0m\u001b[0;34m\u001b[0m\u001b[0m\n",
      "\u001b[0m\u001b[0;32m     13 \u001b[0;31m    \u001b[0mprint\u001b[0m\u001b[0;34m(\u001b[0m\u001b[0melements\u001b[0m\u001b[0;34m)\u001b[0m\u001b[0;34m\u001b[0m\u001b[0m\n",
      "\u001b[0m\u001b[0;32m     14 \u001b[0;31m    \u001b[0;32mreturn\u001b[0m \u001b[0melements\u001b[0m\u001b[0;34m\u001b[0m\u001b[0m\n",
      "\u001b[0m\n",
      "ipdb> display elements\n",
      "display elements: {4: 31.0, 5: 0.0, 6: 0.0, 7: 0.0, 2: 0.0, 3: 0.0}\n",
      "ipdb> step\n",
      "> \u001b[0;32m<ipython-input-1-39f32459868b>\u001b[0m(9)\u001b[0;36mAverageCounter\u001b[0;34m()\u001b[0m\n",
      "\u001b[0;32m      7 \u001b[0;31m    \u001b[0;32mfor\u001b[0m \u001b[0mi\u001b[0m \u001b[0;32min\u001b[0m \u001b[0mrange\u001b[0m\u001b[0;34m(\u001b[0m\u001b[0;36m1\u001b[0m\u001b[0;34m,\u001b[0m \u001b[0mlength\u001b[0m\u001b[0;34m)\u001b[0m\u001b[0;34m:\u001b[0m\u001b[0;34m\u001b[0m\u001b[0m\n",
      "\u001b[0m\u001b[0;32m      8 \u001b[0;31m        \u001b[0melements\u001b[0m\u001b[0;34m[\u001b[0m\u001b[0msequence\u001b[0m\u001b[0;34m[\u001b[0m\u001b[0mi\u001b[0m\u001b[0;34m]\u001b[0m\u001b[0;34m]\u001b[0m \u001b[0;34m=\u001b[0m \u001b[0;36m0.0\u001b[0m\u001b[0;34m\u001b[0m\u001b[0m\n",
      "\u001b[0m\u001b[0;32m----> 9 \u001b[0;31m    \u001b[0;32mfor\u001b[0m \u001b[0melement\u001b[0m \u001b[0;32min\u001b[0m \u001b[0melements\u001b[0m\u001b[0;34m.\u001b[0m\u001b[0mkeys\u001b[0m\u001b[0;34m(\u001b[0m\u001b[0;34m)\u001b[0m\u001b[0;34m:\u001b[0m\u001b[0;34m\u001b[0m\u001b[0m\n",
      "\u001b[0m\u001b[0;32m     10 \u001b[0;31m        \u001b[0;32mfor\u001b[0m \u001b[0mi\u001b[0m \u001b[0;32min\u001b[0m \u001b[0mrange\u001b[0m\u001b[0;34m(\u001b[0m\u001b[0;36m1\u001b[0m\u001b[0;34m,\u001b[0m\u001b[0mlength\u001b[0m\u001b[0;34m)\u001b[0m\u001b[0;34m:\u001b[0m\u001b[0;34m\u001b[0m\u001b[0m\n",
      "\u001b[0m\u001b[0;32m     11 \u001b[0;31m            \u001b[0melements\u001b[0m\u001b[0;34m[\u001b[0m\u001b[0melement\u001b[0m\u001b[0;34m]\u001b[0m \u001b[0;34m+=\u001b[0m \u001b[0msequence\u001b[0m\u001b[0;34m[\u001b[0m\u001b[0mi\u001b[0m\u001b[0;34m]\u001b[0m\u001b[0;34m\u001b[0m\u001b[0m\n",
      "\u001b[0m\n",
      "ipdb> display elements\n",
      "display elements: {4: 3.875, 5: 0.0, 6: 0.0, 7: 0.0, 2: 0.0, 3: 0.0}\n",
      "ipdb> until 12\n",
      "> \u001b[0;32m<ipython-input-1-39f32459868b>\u001b[0m(12)\u001b[0;36mAverageCounter\u001b[0;34m()\u001b[0m\n",
      "\u001b[0;32m     10 \u001b[0;31m        \u001b[0;32mfor\u001b[0m \u001b[0mi\u001b[0m \u001b[0;32min\u001b[0m \u001b[0mrange\u001b[0m\u001b[0;34m(\u001b[0m\u001b[0;36m1\u001b[0m\u001b[0;34m,\u001b[0m\u001b[0mlength\u001b[0m\u001b[0;34m)\u001b[0m\u001b[0;34m:\u001b[0m\u001b[0;34m\u001b[0m\u001b[0m\n",
      "\u001b[0m\u001b[0;32m     11 \u001b[0;31m            \u001b[0melements\u001b[0m\u001b[0;34m[\u001b[0m\u001b[0melement\u001b[0m\u001b[0;34m]\u001b[0m \u001b[0;34m+=\u001b[0m \u001b[0msequence\u001b[0m\u001b[0;34m[\u001b[0m\u001b[0mi\u001b[0m\u001b[0;34m]\u001b[0m\u001b[0;34m\u001b[0m\u001b[0m\n",
      "\u001b[0m\u001b[0;32m---> 12 \u001b[0;31m        \u001b[0melements\u001b[0m\u001b[0;34m[\u001b[0m\u001b[0melement\u001b[0m\u001b[0;34m]\u001b[0m \u001b[0;34m/=\u001b[0m \u001b[0mlength\u001b[0m\u001b[0;34m\u001b[0m\u001b[0m\n",
      "\u001b[0m\u001b[0;32m     13 \u001b[0;31m    \u001b[0mprint\u001b[0m\u001b[0;34m(\u001b[0m\u001b[0melements\u001b[0m\u001b[0;34m)\u001b[0m\u001b[0;34m\u001b[0m\u001b[0m\n",
      "\u001b[0m\u001b[0;32m     14 \u001b[0;31m    \u001b[0;32mreturn\u001b[0m \u001b[0melements\u001b[0m\u001b[0;34m\u001b[0m\u001b[0m\n",
      "\u001b[0m\n",
      "ipdb> display elements\n",
      "display elements: {4: 3.875, 5: 31.0, 6: 0.0, 7: 0.0, 2: 0.0, 3: 0.0}\n",
      "ipdb> until 12\n",
      "*** \"until\" line number is smaller than current line number\n",
      "ipdb> step\n",
      "> \u001b[0;32m<ipython-input-1-39f32459868b>\u001b[0m(9)\u001b[0;36mAverageCounter\u001b[0;34m()\u001b[0m\n",
      "\u001b[0;32m      7 \u001b[0;31m    \u001b[0;32mfor\u001b[0m \u001b[0mi\u001b[0m \u001b[0;32min\u001b[0m \u001b[0mrange\u001b[0m\u001b[0;34m(\u001b[0m\u001b[0;36m1\u001b[0m\u001b[0;34m,\u001b[0m \u001b[0mlength\u001b[0m\u001b[0;34m)\u001b[0m\u001b[0;34m:\u001b[0m\u001b[0;34m\u001b[0m\u001b[0m\n",
      "\u001b[0m\u001b[0;32m      8 \u001b[0;31m        \u001b[0melements\u001b[0m\u001b[0;34m[\u001b[0m\u001b[0msequence\u001b[0m\u001b[0;34m[\u001b[0m\u001b[0mi\u001b[0m\u001b[0;34m]\u001b[0m\u001b[0;34m]\u001b[0m \u001b[0;34m=\u001b[0m \u001b[0;36m0.0\u001b[0m\u001b[0;34m\u001b[0m\u001b[0m\n",
      "\u001b[0m\u001b[0;32m----> 9 \u001b[0;31m    \u001b[0;32mfor\u001b[0m \u001b[0melement\u001b[0m \u001b[0;32min\u001b[0m \u001b[0melements\u001b[0m\u001b[0;34m.\u001b[0m\u001b[0mkeys\u001b[0m\u001b[0;34m(\u001b[0m\u001b[0;34m)\u001b[0m\u001b[0;34m:\u001b[0m\u001b[0;34m\u001b[0m\u001b[0m\n",
      "\u001b[0m\u001b[0;32m     10 \u001b[0;31m        \u001b[0;32mfor\u001b[0m \u001b[0mi\u001b[0m \u001b[0;32min\u001b[0m \u001b[0mrange\u001b[0m\u001b[0;34m(\u001b[0m\u001b[0;36m1\u001b[0m\u001b[0;34m,\u001b[0m\u001b[0mlength\u001b[0m\u001b[0;34m)\u001b[0m\u001b[0;34m:\u001b[0m\u001b[0;34m\u001b[0m\u001b[0m\n",
      "\u001b[0m\u001b[0;32m     11 \u001b[0;31m            \u001b[0melements\u001b[0m\u001b[0;34m[\u001b[0m\u001b[0melement\u001b[0m\u001b[0;34m]\u001b[0m \u001b[0;34m+=\u001b[0m \u001b[0msequence\u001b[0m\u001b[0;34m[\u001b[0m\u001b[0mi\u001b[0m\u001b[0;34m]\u001b[0m\u001b[0;34m\u001b[0m\u001b[0m\n",
      "\u001b[0m\n",
      "ipdb> display elements\n",
      "display elements: {4: 3.875, 5: 3.875, 6: 0.0, 7: 0.0, 2: 0.0, 3: 0.0}\n",
      "ipdb> c\n",
      "{4: 3.875, 5: 3.875, 6: 3.875, 7: 3.875, 2: 3.875, 3: 3.875}\n"
     ]
    }
   ],
   "source": [
    "%%debug\n",
    "AverageCounter([2, 4, 5, 6, 7, 2 ,3 ,4])"
   ]
  },
  {
   "cell_type": "code",
   "execution_count": 2,
   "metadata": {},
   "outputs": [],
   "source": [
    "# Видно, что на каждом шаге вычисления среднего для числа\n",
    "# выходит одно и то же число, ещё и больше 1\n",
    "# В результате ошибка заключается в работе цикла в строках 9-13\n",
    "# В инициализации ошибки не обнаружено"
   ]
  },
  {
   "cell_type": "markdown",
   "metadata": {},
   "source": [
    "## Task 2. Profiling (5 points)\n",
    "Profile debugged version of the sample Python's function. Your goal is to accomplish the following:\n",
    "\n",
    "1. Profile function's execution time and detect most computationally intensive parts of the function.\n",
    "2. Suggest improvements of the function's code. Try to make function's execution as fast as possible. Your Python's code should be idiomatic.\n",
    "3. Use profiler to explore how your modifications affect execution time.\n",
    "4. Approximate performance function (sequence length to execution time function) of the initial and optimized functions. Compare the results."
   ]
  },
  {
   "cell_type": "code",
   "execution_count": 2,
   "metadata": {},
   "outputs": [],
   "source": [
    "import numpy as np\n",
    "import random"
   ]
  },
  {
   "cell_type": "code",
   "execution_count": 3,
   "metadata": {},
   "outputs": [],
   "source": [
    "# for Profiling\n",
    "%load_ext line_profiler"
   ]
  },
  {
   "cell_type": "code",
   "execution_count": 4,
   "metadata": {},
   "outputs": [],
   "source": [
    "# Another way for Profiling\n",
    "from line_profiler import LineProfiler\n",
    "def profile_print(func_to_call, *args):\n",
    "    profiler = LineProfiler()\n",
    "    profiler.add_function(func_to_call)\n",
    "    profiler.runcall(func_to_call, *args)\n",
    "    profiler.print_stats()"
   ]
  },
  {
   "cell_type": "code",
   "execution_count": 5,
   "metadata": {},
   "outputs": [],
   "source": [
    "# Debug version \n",
    "def AverageCounter(sequence):\n",
    "    length = len(sequence)\n",
    "    elements = {}\n",
    "    for i in range(length):\n",
    "        elements[sequence[i]] = 0.0\n",
    "    for element in elements.keys():\n",
    "        for i in range(length):\n",
    "            elements[element] += element == sequence[i]\n",
    "        elements[element] /= length   \n",
    "    return elements"
   ]
  },
  {
   "cell_type": "code",
   "execution_count": 6,
   "metadata": {},
   "outputs": [],
   "source": [
    "# from a to b with n elements\n",
    "a = 1\n",
    "b = 100\n",
    "n = 10000\n",
    "test_sequence = [random.randint(a,b) for i in range(n)]"
   ]
  },
  {
   "cell_type": "code",
   "execution_count": 7,
   "metadata": {},
   "outputs": [],
   "source": [
    "#Profile function's execution time and detect most computationally intensive parts of the function."
   ]
  },
  {
   "cell_type": "code",
   "execution_count": 8,
   "metadata": {},
   "outputs": [],
   "source": [
    "%lprun -f AverageCounter  AverageCounter(test_sequence)"
   ]
  },
  {
   "cell_type": "code",
   "execution_count": 9,
   "metadata": {},
   "outputs": [
    {
     "name": "stdout",
     "output_type": "stream",
     "text": [
      "Timer unit: 1e-06 s\n",
      "\n",
      "Total time: 1.70154 s\n",
      "File: <ipython-input-5-c28e73f07dd4>\n",
      "Function: AverageCounter at line 2\n",
      "\n",
      "Line #      Hits         Time  Per Hit   % Time  Line Contents\n",
      "==============================================================\n",
      "     2                                           def AverageCounter(sequence):\n",
      "     3         1          2.0      2.0      0.0      length = len(sequence)\n",
      "     4         1          1.0      1.0      0.0      elements = {}\n",
      "     5     10001       6945.0      0.7      0.4      for i in range(length):\n",
      "     6     10000       7540.0      0.8      0.4          elements[sequence[i]] = 0.0\n",
      "     7       101        117.0      1.2      0.0      for element in elements.keys():\n",
      "     8   1000100     703547.0      0.7     41.3          for i in range(length):\n",
      "     9   1000000     983219.0      1.0     57.8              elements[element] += element == sequence[i]\n",
      "    10       100        170.0      1.7      0.0          elements[element] /= length   \n",
      "    11         1          0.0      0.0      0.0      return elements\n",
      "\n"
     ]
    }
   ],
   "source": [
    "profile_print(AverageCounter, test_sequence)"
   ]
  },
  {
   "cell_type": "code",
   "execution_count": 10,
   "metadata": {},
   "outputs": [],
   "source": [
    "# Suggest improvements of the function's code.\n",
    "# Try to make function's execution as fast as possible.\n",
    "# Your Python's code should be idiomatic."
   ]
  },
  {
   "cell_type": "code",
   "execution_count": 11,
   "metadata": {},
   "outputs": [],
   "source": [
    "# Numpy version\n",
    "def numpy_AverageCounter(sequence):\n",
    "    unique, counts = np.unique(sequence, return_counts=True)\n",
    "    counts = counts / np.size(sequence)\n",
    "    elements = dict(zip(unique, counts))\n",
    "    return elements"
   ]
  },
  {
   "cell_type": "code",
   "execution_count": 12,
   "metadata": {},
   "outputs": [
    {
     "name": "stdout",
     "output_type": "stream",
     "text": [
      "0.0104\n",
      "0.0104\n"
     ]
    }
   ],
   "source": [
    "# Все работает\n",
    "res_1 = AverageCounter(test_sequence)\n",
    "res_2 = numpy_AverageCounter(test_sequence)\n",
    "print(res_1[1])\n",
    "print(res_2[1])"
   ]
  },
  {
   "cell_type": "code",
   "execution_count": 13,
   "metadata": {},
   "outputs": [],
   "source": [
    "\n",
    "# Use profiler to explore how your modifications affect execution time."
   ]
  },
  {
   "cell_type": "code",
   "execution_count": 14,
   "metadata": {},
   "outputs": [
    {
     "name": "stdout",
     "output_type": "stream",
     "text": [
      "224 ms ± 7.84 ms per loop (mean ± std. dev. of 20 runs, 1 loop each)\n"
     ]
    }
   ],
   "source": [
    "%%timeit -r 20\n",
    "res_1 = AverageCounter(test_sequence)"
   ]
  },
  {
   "cell_type": "code",
   "execution_count": 15,
   "metadata": {},
   "outputs": [
    {
     "name": "stdout",
     "output_type": "stream",
     "text": [
      "2.76 ms ± 250 µs per loop (mean ± std. dev. of 20 runs, 100 loops each)\n"
     ]
    }
   ],
   "source": [
    "%%timeit -r 20\n",
    "res_2 = numpy_AverageCounter(test_sequence)"
   ]
  },
  {
   "cell_type": "code",
   "execution_count": 16,
   "metadata": {},
   "outputs": [
    {
     "name": "stdout",
     "output_type": "stream",
     "text": [
      "Timer unit: 1e-06 s\n",
      "\n",
      "Total time: 0.004264 s\n",
      "File: <ipython-input-11-95e04785be57>\n",
      "Function: numpy_AverageCounter at line 2\n",
      "\n",
      "Line #      Hits         Time  Per Hit   % Time  Line Contents\n",
      "==============================================================\n",
      "     2                                           def numpy_AverageCounter(sequence):\n",
      "     3         1       2579.0   2579.0     60.5      unique, counts = np.unique(sequence, return_counts=True)\n",
      "     4         1       1619.0   1619.0     38.0      counts = counts / np.size(sequence)\n",
      "     5         1         64.0     64.0      1.5      elements = dict(zip(unique, counts))\n",
      "     6         1          2.0      2.0      0.0      return elements\n",
      "\n"
     ]
    }
   ],
   "source": [
    "profile_print(numpy_AverageCounter, test_sequence)"
   ]
  },
  {
   "cell_type": "code",
   "execution_count": 20,
   "metadata": {},
   "outputs": [],
   "source": [
    "# Approximate performance function (sequence length to execution time function)\n",
    "# of the initial and optimized functions. Compare the results."
   ]
  },
  {
   "cell_type": "code",
   "execution_count": 17,
   "metadata": {},
   "outputs": [],
   "source": [
    "import matplotlib.pyplot as plt"
   ]
  },
  {
   "cell_type": "code",
   "execution_count": 19,
   "metadata": {},
   "outputs": [
    {
     "data": {
      "image/png": "[encoded data removed]",
      "text/plain": [
       "<matplotlib.figure.Figure at 0x7f575a2c1a20>"
      ]
     },
     "metadata": {},
     "output_type": "display_data"
    }
   ],
   "source": [
    "from timeit import timeit\n",
    "n = [10 ** i for i in range(1, 5)]\n",
    "algorithms_labels = ['numpy_AverageCounter',\n",
    "                     'AverageCounter']\n",
    "algorithm_time = [[0] * len(n) for i in range(len(algorithms_labels))]\n",
    "algorithms = [numpy_AverageCounter,\n",
    "              AverageCounter]\n",
    "for i, n_samples in enumerate(n):\n",
    "    test_sequence = [random.randint(1,1000) for i in range(n_samples)]\n",
    "    for j, algorithm in enumerate(algorithms):\n",
    "        algorithm_time[j][i] = timeit(lambda: algorithm(test_sequence), number=3)\n",
    "        \n",
    "for i, label in enumerate(algorithms_labels):\n",
    "    plt.plot(n, algorithm_time[i], label=label)\n",
    "\n",
    "plt.xlabel('len')\n",
    "plt.ylabel('seconds')\n",
    "plt.legend(bbox_to_anchor=(1.05, 1), loc=2, borderaxespad=0.)\n",
    "plt.show()"
   ]
  },
  {
   "cell_type": "code",
   "execution_count": 29,
   "metadata": {},
   "outputs": [],
   "source": [
    "# Заметна чисто линейная зависимость o(N) у AverageCounter"
   ]
  },
  {
   "cell_type": "markdown",
   "metadata": {},
   "source": [
    "## Task 3. Running scripts (5 points)\n",
    "Use iPython features for interaction with operating system to accomplish the following tasks:\n",
    "1. Wrap debugged and improved version of the ```AverageCounter( sequence )``` function, so that it can be run as a Python script (use command line arguments to pass the ```filename``` parameter, which contains the sequence).\n",
    "2. Create a script, which generate a set of testcases (files, which contains randomly generated sequences)\n",
    "3. Create a script, which runs the testcases and measures performance of the supplied function on the provided testcase. Th scipt must be as generic as possible."
   ]
  },
  {
   "cell_type": "code",
   "execution_count": 21,
   "metadata": {},
   "outputs": [],
   "source": [
    "# Wrap debugged and improved version of the AverageCounter( sequence ) function,\n",
    "# so that it can be run as a Python script (use command line arguments to pass \n",
    "# the filename parameter, which contains the sequence)."
   ]
  },
  {
   "cell_type": "code",
   "execution_count": 22,
   "metadata": {},
   "outputs": [
    {
     "name": "stdout",
     "output_type": "stream",
     "text": [
      "Writing Average_Counter.py\n"
     ]
    }
   ],
   "source": [
    "%%file Average_Counter.py\n",
    "import numpy as np\n",
    "def read_sequence(filename):\n",
    "    with open(filename, 'r') as f:\n",
    "        sequence = f.read().splitlines()\n",
    "    sequence = list(map(int, sequence))\n",
    "    return sequence\n",
    "def AverageCounter(filename):\n",
    "    sequence = read_sequence(filename)\n",
    "    unique, counts = np.unique(sequence, return_counts=True)\n",
    "    counts = counts / np.size(sequence)\n",
    "    elements = dict(zip(unique, counts))\n",
    "    return elements"
   ]
  },
  {
   "cell_type": "code",
   "execution_count": 23,
   "metadata": {},
   "outputs": [],
   "source": [
    "# Create a script, which generate a set of testcases \n",
    "# (files, which contains randomly generated sequences)"
   ]
  },
  {
   "cell_type": "code",
   "execution_count": 24,
   "metadata": {},
   "outputs": [
    {
     "name": "stdout",
     "output_type": "stream",
     "text": [
      "Writing Test_Generator.py\n"
     ]
    }
   ],
   "source": [
    "%%file Test_Generator.py\n",
    "import numpy as np\n",
    "def write_sequence(filename, sequence):\n",
    "    with open(filename, 'w') as f:\n",
    "        for item in sequence:\n",
    "            f.write(\"{}\\n\".format(item))\n",
    "def TestGenerator(filename):\n",
    "    n = np.random.randint(10, 1000)\n",
    "    left = np.random.randint(-n, n)\n",
    "    right = np.random.randint(left + 1, left + n)\n",
    "    size = np.random.randint(abs(right - left) , (abs(right - left)) * n)\n",
    "    sequence = np.random.randint(left, right, size)\n",
    "    write_sequence(filename, sequence)\n",
    "    return size"
   ]
  },
  {
   "cell_type": "code",
   "execution_count": 25,
   "metadata": {},
   "outputs": [],
   "source": [
    "# Create a script, which runs the testcases and measures \n",
    "# performance of the supplied function on the provided testcase. \n",
    "# Th scipt must be as generic as possible."
   ]
  },
  {
   "cell_type": "code",
   "execution_count": 26,
   "metadata": {},
   "outputs": [
    {
     "name": "stdout",
     "output_type": "stream",
     "text": [
      "Writing Test_Script.py\n"
     ]
    }
   ],
   "source": [
    "%%file Test_Script.py \n",
    "from timeit import timeit\n",
    "from Test_Generator import TestGenerator\n",
    "from Average_Counter import AverageCounter\n",
    "def TestScript(filename, n):\n",
    "    t = [0] * n\n",
    "    s = [0] * n\n",
    "    for i in range(n):\n",
    "        size = TestGenerator(filename)\n",
    "        s[i] = size\n",
    "        t[i] = timeit(lambda: AverageCounter(filename), number=3)\n",
    "    return t, s"
   ]
  },
  {
   "cell_type": "code",
   "execution_count": 27,
   "metadata": {},
   "outputs": [],
   "source": [
    "import Test_Script"
   ]
  },
  {
   "cell_type": "code",
   "execution_count": 28,
   "metadata": {},
   "outputs": [
    {
     "data": {
      "text/plain": [
       "Text(0,0.5,'size')"
      ]
     },
     "execution_count": 28,
     "metadata": {},
     "output_type": "execute_result"
    },
    {
     "data": {
      "image/png": "[encoded data removed]",
      "text/plain": [
       "<matplotlib.figure.Figure at 0x7f575a316780>"
      ]
     },
     "metadata": {},
     "output_type": "display_data"
    }
   ],
   "source": [
    "# Визуализация производительности при n запусков\n",
    "n = 1000\n",
    "t, s = Test_Script.TestScript('test.txt', n)\n",
    "plt.scatter(t, s)\n",
    "plt.xlabel('time sec')\n",
    "plt.ylabel('size')"
   ]
  },
  {
   "cell_type": "code",
   "execution_count": null,
   "metadata": {},
   "outputs": [],
   "source": []
  }
 ],
 "metadata": {
  "kernelspec": {
   "display_name": "Python 3",
   "language": "python",
   "name": "python3"
  },
  "language_info": {
   "codemirror_mode": {
    "name": "ipython",
    "version": 3
   },
   "file_extension": ".py",
   "mimetype": "text/x-python",
   "name": "python",
   "nbconvert_exporter": "python",
   "pygments_lexer": "ipython3",
   "version": "3.6.4"
  }
 },
 "nbformat": 4,
 "nbformat_minor": 2
}
