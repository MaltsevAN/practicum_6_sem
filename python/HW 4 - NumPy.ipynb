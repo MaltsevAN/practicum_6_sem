{
 "cells": [
  {
   "cell_type": "markdown",
   "metadata": {},
   "source": [
    "# HW 4 - NumPy + Visualization"
   ]
  },
  {
   "cell_type": "code",
   "execution_count": 1,
   "metadata": {},
   "outputs": [],
   "source": [
    "import numpy as np\n",
    "from matplotlib import pyplot as plt\n",
    "import seaborn as sns"
   ]
  },
  {
   "cell_type": "markdown",
   "metadata": {},
   "source": [
    "## Task 1 (2 points).\n",
    "Generate a generic 2D Gaussian-like array (Hint: checkout np.linspace function). Visualize the results."
   ]
  },
  {
   "cell_type": "code",
   "execution_count": 2,
   "metadata": {},
   "outputs": [
    {
     "data": {
      "image/png": "[encoded data removed]",
      "text/plain": [
       "<matplotlib.figure.Figure at 0x7fb717df4f98>"
      ]
     },
     "metadata": {},
     "output_type": "display_data"
    }
   ],
   "source": [
    "X, Y = np.meshgrid(np.linspace(-1,1,10), np.linspace(-1,1,10))\n",
    "D = np.sqrt(X*X+Y*Y)\n",
    "sigma, mu = 1.0, 0.0\n",
    "G = np.exp(-( (D-mu)**2 / ( 2.0 * sigma**2 ) ) )\n",
    "plt.plot(G)\n",
    "plt.show()"
   ]
  },
  {
   "cell_type": "markdown",
   "metadata": {},
   "source": [
    "## Task 2  (1 point).\n",
    "How to tell if a given 2D array has null columns?"
   ]
  },
  {
   "cell_type": "code",
   "execution_count": 3,
   "metadata": {},
   "outputs": [
    {
     "name": "stdout",
     "output_type": "stream",
     "text": [
      "[[1 0 1 2 2 0 0 2 2 2]\n",
      " [1 1 0 1 2 0 2 2 0 2]\n",
      " [0 2 0 2 1 2 2 1 0 0]]\n",
      "False\n"
     ]
    }
   ],
   "source": [
    "Z = np.random.randint(0,3,(3,10))\n",
    "print(Z)\n",
    "print((~Z.any(axis=0)).any())"
   ]
  },
  {
   "cell_type": "markdown",
   "metadata": {},
   "source": [
    "## Task 3  (1 point).\n",
    "Consider the vector [1, 2, 3, 4, 5], how to build a new vector with 3 consecutive zeros interleaved between each value? "
   ]
  },
  {
   "cell_type": "code",
   "execution_count": 4,
   "metadata": {},
   "outputs": [
    {
     "name": "stdout",
     "output_type": "stream",
     "text": [
      "[1 2 3 4 5]\n",
      "[1 0 0 0 2 0 0 0 3 0 0 0 4 0 0 0 5]\n"
     ]
    }
   ],
   "source": [
    "Z = np.array([1,2,3,4,5])\n",
    "shift = 3\n",
    "new_Z = np.zeros(Z.shape[0] + (Z.shape[0]-1)*(shift)).astype(int)\n",
    "new_Z[::shift+1] = Z\n",
    "print(Z)\n",
    "print(new_Z)"
   ]
  },
  {
   "cell_type": "markdown",
   "metadata": {},
   "source": [
    "## Task 4  (1 point).\n",
    "Considering a 15x5 matrix, extract rows with unequal values (e.g. [1,2,2,3,4])."
   ]
  },
  {
   "cell_type": "code",
   "execution_count": 5,
   "metadata": {},
   "outputs": [
    {
     "name": "stdout",
     "output_type": "stream",
     "text": [
      "Z: [[3 2 2 0 2]\n",
      " [1 1 3 2 3]\n",
      " [0 0 3 3 1]\n",
      " [4 2 2 2 3]\n",
      " [0 2 1 4 1]\n",
      " [3 3 1 4 1]\n",
      " [3 2 4 4 3]\n",
      " [1 0 0 4 0]\n",
      " [2 4 0 4 2]\n",
      " [3 0 0 3 1]\n",
      " [3 3 2 4 3]\n",
      " [2 2 3 2 4]\n",
      " [1 2 0 1 2]\n",
      " [3 0 2 3 2]\n",
      " [0 0 1 2 0]]\n",
      "U: [[3 2 2 0 2]\n",
      " [1 1 3 2 3]\n",
      " [0 0 3 3 1]\n",
      " [4 2 2 2 3]\n",
      " [0 2 1 4 1]\n",
      " [3 3 1 4 1]\n",
      " [3 2 4 4 3]\n",
      " [1 0 0 4 0]\n",
      " [2 4 0 4 2]\n",
      " [3 0 0 3 1]\n",
      " [3 3 2 4 3]\n",
      " [2 2 3 2 4]\n",
      " [1 2 0 1 2]\n",
      " [3 0 2 3 2]\n",
      " [0 0 1 2 0]]\n"
     ]
    }
   ],
   "source": [
    "Z = np.random.randint(0,5,(15,5))\n",
    "print('Z:',Z)\n",
    "U = Z[Z.max(axis=1) != Z.min(axis=1),:]\n",
    "print('U:',U)"
   ]
  },
  {
   "cell_type": "markdown",
   "metadata": {},
   "source": [
    "## Task 5  (1 point).\n",
    "Given an arbitrary number of vectors, build the cartesian product (every combinations of every item)."
   ]
  },
  {
   "cell_type": "code",
   "execution_count": 6,
   "metadata": {},
   "outputs": [
    {
     "name": "stdout",
     "output_type": "stream",
     "text": [
      "[[1 4 6]\n",
      " [1 4 7]\n",
      " [1 5 6]\n",
      " [1 5 7]\n",
      " [2 4 6]\n",
      " [2 4 7]\n",
      " [2 5 6]\n",
      " [2 5 7]\n",
      " [3 4 6]\n",
      " [3 4 7]\n",
      " [3 5 6]\n",
      " [3 5 7]]\n"
     ]
    }
   ],
   "source": [
    "def cartesian(arrays):\n",
    "    arrays = [np.asarray(a) for a in arrays]\n",
    "    shape = (len(x) for x in arrays)\n",
    "    ix = np.indices(shape, dtype=int)\n",
    "    ix = ix.reshape(len(arrays), -1).T\n",
    "    for n, arr in enumerate(arrays):\n",
    "        ix[:, n] = arr[ix[:, n]]\n",
    "    return ix\n",
    "\n",
    "print (cartesian(([1, 2, 3], [4, 5], [6, 7])))"
   ]
  },
  {
   "cell_type": "markdown",
   "metadata": {},
   "source": [
    "## Task 6  (1 point).\n",
    "Consider a random vector with shape (100,2) representing coordinates, find point by point distances."
   ]
  },
  {
   "cell_type": "code",
   "execution_count": 7,
   "metadata": {},
   "outputs": [
    {
     "name": "stdout",
     "output_type": "stream",
     "text": [
      "[[ 0.6642441   0.64000694]\n",
      " [ 0.2890983   0.08438337]\n",
      " [ 0.68702797  0.58186722]\n",
      " [ 0.03292319  0.169284  ]\n",
      " [ 0.98765258  0.10827934]\n",
      " [ 0.12236445  0.48951253]\n",
      " [ 0.24354762  0.22318653]\n",
      " [ 0.43814322  0.56050868]\n",
      " [ 0.30313379  0.22174319]\n",
      " [ 0.23120798  0.47942541]\n",
      " [ 0.14025072  0.02453987]\n",
      " [ 0.9237628   0.20996392]\n",
      " [ 0.44471133  0.08921129]\n",
      " [ 0.79620139  0.47201933]\n",
      " [ 0.89889122  0.85862586]\n",
      " [ 0.02309939  0.4541912 ]\n",
      " [ 0.57069055  0.20227299]\n",
      " [ 0.11252782  0.14448073]\n",
      " [ 0.15476404  0.74563886]\n",
      " [ 0.5665278   0.95950616]\n",
      " [ 0.67449947  0.99642484]\n",
      " [ 0.7016142   0.7607743 ]\n",
      " [ 0.97551742  0.99410005]\n",
      " [ 0.72930298  0.72352991]\n",
      " [ 0.79165882  0.02020351]\n",
      " [ 0.45610223  0.70714361]\n",
      " [ 0.1307567   0.19574697]\n",
      " [ 0.2090387   0.54743962]\n",
      " [ 0.00277463  0.71575816]\n",
      " [ 0.31013855  0.62666693]\n",
      " [ 0.75051889  0.49540883]\n",
      " [ 0.35854049  0.5874887 ]\n",
      " [ 0.59770909  0.56774474]\n",
      " [ 0.5923959   0.064988  ]\n",
      " [ 0.03637118  0.67209763]\n",
      " [ 0.73786449  0.42164566]\n",
      " [ 0.45663602  0.68820988]\n",
      " [ 0.43329576  0.95466229]\n",
      " [ 0.97256863  0.88690479]\n",
      " [ 0.22560221  0.07836179]\n",
      " [ 0.01227773  0.49755353]\n",
      " [ 0.93261184  0.18034018]\n",
      " [ 0.66856905  0.77514124]\n",
      " [ 0.94983152  0.48992185]\n",
      " [ 0.31119527  0.97235008]\n",
      " [ 0.01935075  0.77733699]\n",
      " [ 0.5410666   0.18790561]\n",
      " [ 0.14951402  0.65699526]\n",
      " [ 0.45626969  0.87070516]\n",
      " [ 0.60698037  0.8042361 ]\n",
      " [ 0.29061767  0.32929571]\n",
      " [ 0.16479108  0.09850443]\n",
      " [ 0.2342512   0.28346975]\n",
      " [ 0.62845411  0.30348791]\n",
      " [ 0.78882149  0.17617212]\n",
      " [ 0.02534909  0.88839678]\n",
      " [ 0.86681804  0.63470524]\n",
      " [ 0.29066376  0.45286288]\n",
      " [ 0.7251231   0.23295654]\n",
      " [ 0.50607561  0.30942199]\n",
      " [ 0.40298937  0.72451138]\n",
      " [ 0.11506041  0.07521927]\n",
      " [ 0.12826358  0.87105872]\n",
      " [ 0.33040516  0.43493799]\n",
      " [ 0.21224586  0.57873291]\n",
      " [ 0.93755568  0.7296428 ]\n",
      " [ 0.54391641  0.70189084]\n",
      " [ 0.1076408   0.8606097 ]\n",
      " [ 0.15813336  0.02767451]\n",
      " [ 0.30260135  0.01154007]\n",
      " [ 0.57720142  0.50581034]\n",
      " [ 0.64611018  0.09303576]\n",
      " [ 0.03272459  0.28956337]\n",
      " [ 0.36635326  0.58804498]\n",
      " [ 0.07825074  0.52000765]\n",
      " [ 0.24622879  0.18998924]\n",
      " [ 0.18440927  0.53978729]\n",
      " [ 0.35511194  0.77094525]\n",
      " [ 0.53968533  0.23620039]\n",
      " [ 0.1404469   0.365177  ]\n",
      " [ 0.91914814  0.73422121]\n",
      " [ 0.87025713  0.27387149]\n",
      " [ 0.268976    0.11707115]\n",
      " [ 0.15602125  0.99540186]\n",
      " [ 0.20641053  0.58481112]\n",
      " [ 0.61125728  0.7766251 ]\n",
      " [ 0.34557052  0.82337788]\n",
      " [ 0.78798515  0.5836984 ]\n",
      " [ 0.89419387  0.37763827]\n",
      " [ 0.15717571  0.99870795]\n",
      " [ 0.08996976  0.2208423 ]\n",
      " [ 0.40673792  0.07226708]\n",
      " [ 0.45323209  0.35375432]\n",
      " [ 0.53791805  0.2023082 ]\n",
      " [ 0.19015553  0.08753224]\n",
      " [ 0.91462772  0.43662437]\n",
      " [ 0.62179099  0.33756613]\n",
      " [ 0.27685488  0.84217275]\n",
      " [ 0.35925857  0.99133811]\n",
      " [ 0.73100456  0.98504415]]\n",
      "[[ 0.          0.67041176  0.06244464 ...,  0.43696844  0.46524162\n",
      "   0.35143652]\n",
      " [ 0.67041176  0.          0.63705431 ...,  0.75788828  0.90966443\n",
      "   1.00323027]\n",
      " [ 0.06244464  0.63705431  0.         ...,  0.48579927  0.52449899\n",
      "   0.40556822]\n",
      " ..., \n",
      " [ 0.43696844  0.75788828  0.48579927 ...,  0.          0.17041325\n",
      "   0.47609261]\n",
      " [ 0.46524162  0.90966443  0.52449899 ...,  0.17041325  0.          0.37179927]\n",
      " [ 0.35143652  1.00323027  0.40556822 ...,  0.47609261  0.37179927  0.        ]]\n"
     ]
    }
   ],
   "source": [
    "Z = np.random.random((100,2))\n",
    "print(Z)\n",
    "X,Y = np.atleast_2d(Z[:,0], Z[:,1])\n",
    "D = np.sqrt( (X-X.T)**2 + (Y-Y.T)**2)\n",
    "print(D)"
   ]
  },
  {
   "cell_type": "markdown",
   "metadata": {},
   "source": [
    "## Task 7  (1 points).\n",
    "Consider a given vector, how to add 1 to each element indexed by a second vector (be careful with repeated indices)? (Hint: checkout np.bincount function)"
   ]
  },
  {
   "cell_type": "code",
   "execution_count": 8,
   "metadata": {},
   "outputs": [
    {
     "name": "stdout",
     "output_type": "stream",
     "text": [
      "Z =  [2 3 1 1 3 4 9 1 0 8]\n",
      "I = [8 9 1 6 3 0 5 9 4 4 1 7 2 6 7 3 2 6 8 0 1 9 1 2 1 4 3 4 4 3]\n",
      "bincount I = [2 5 3 4 5 1 3 2 2 3]\n",
      "Z =  [ 4  8  4  5  8  5 12  3  2 11]\n"
     ]
    }
   ],
   "source": [
    "Z = np.random.randint(0,10, 10)\n",
    "print('Z = ',Z)\n",
    "I = np.random.randint(0,len(Z), 30)\n",
    "print('I =', I)\n",
    "binI = np.bincount(I, minlength=len(Z))\n",
    "print('bincount I =', binI)\n",
    "Z += binI\n",
    "print('Z = ',Z)"
   ]
  },
  {
   "cell_type": "markdown",
   "metadata": {},
   "source": [
    "## Task 8  (1 point).\n",
    "Considering a four dimensions array, how to get sum over the last two axis at once?"
   ]
  },
  {
   "cell_type": "code",
   "execution_count": 9,
   "metadata": {},
   "outputs": [
    {
     "name": "stdout",
     "output_type": "stream",
     "text": [
      "[[100  64  77  84]\n",
      " [ 68  74  87  53]\n",
      " [ 74  77  72  82]\n",
      " [ 81  70  49  90]]\n"
     ]
    }
   ],
   "source": [
    "A = np.random.randint(0,10,(4,4,4,4))\n",
    "sum = A.sum(axis=(-2,-1))\n",
    "print(sum)"
   ]
  },
  {
   "cell_type": "markdown",
   "metadata": {},
   "source": [
    "## Task 9  (1 point).\n",
    "How to get the diagonal of a dot product? (Hint: there different ways to do that and they have different execution time)"
   ]
  },
  {
   "cell_type": "code",
   "execution_count": 10,
   "metadata": {},
   "outputs": [
    {
     "data": {
      "text/plain": [
       "array([ 62,  24,  47, 243])"
      ]
     },
     "execution_count": 10,
     "metadata": {},
     "output_type": "execute_result"
    }
   ],
   "source": [
    "A = np.random.randint(0,10,(4,4))\n",
    "B = np.random.randint(0,10,(4,4))\n",
    "np.diag(np.dot(A, B))"
   ]
  },
  {
   "cell_type": "markdown",
   "metadata": {},
   "source": [
    "## Task 10  (2 points).\n",
    "Consider an array Z = [1,2,3,4,5,6,7,8,9,10,11,12,13,14], how to generate an array R = [[1,2,3,4], [2,3,4,5], [3,4,5,6], ..., [11,12,13,14]]? (Hint: checkout stride_tricks.as_strided function)"
   ]
  },
  {
   "cell_type": "code",
   "execution_count": 11,
   "metadata": {},
   "outputs": [
    {
     "name": "stdout",
     "output_type": "stream",
     "text": [
      "[ 1  2  3  4  5  6  7  8  9 10 11 12 13 14]\n",
      "[[ 1  2  3  4]\n",
      " [ 2  3  4  5]\n",
      " [ 3  4  5  6]\n",
      " [ 4  5  6  7]\n",
      " [ 5  6  7  8]\n",
      " [ 6  7  8  9]\n",
      " [ 7  8  9 10]\n",
      " [ 8  9 10 11]\n",
      " [ 9 10 11 12]\n",
      " [10 11 12 13]\n",
      " [11 12 13 14]]\n"
     ]
    }
   ],
   "source": [
    "Z = np.arange(1,15, dtype=np.uint64)\n",
    "print(Z)\n",
    "R = np.lib.stride_tricks.as_strided(Z,(11,4), (8,8))\n",
    "print(R)"
   ]
  },
  {
   "cell_type": "markdown",
   "metadata": {},
   "source": [
    "## Task 11  (1 point).\n",
    "Consider a 16x16 array, how to get the block-sum (block size is 4x4)?"
   ]
  },
  {
   "cell_type": "code",
   "execution_count": 12,
   "metadata": {},
   "outputs": [
    {
     "name": "stdout",
     "output_type": "stream",
     "text": [
      "[[ 16.  16.  16.  16.]\n",
      " [ 16.  16.  16.  16.]\n",
      " [ 16.  16.  16.  16.]\n",
      " [ 16.  16.  16.  16.]]\n"
     ]
    }
   ],
   "source": [
    "Z = np.ones((16,16))\n",
    "k = 4\n",
    "S = np.add.reduceat(np.add.reduceat(Z, np.arange(0, Z.shape[0], k), axis=0),\n",
    "                                       np.arange(0, Z.shape[1], k), axis=1)\n",
    "print(S)"
   ]
  },
  {
   "cell_type": "markdown",
   "metadata": {},
   "source": [
    "## Task 12  (1 point).\n",
    "Create a structured array with x and y coordinates covering the [0,1]x[0,1] area. (Hint: checkout np.linspace and np.meshgrid functions)."
   ]
  },
  {
   "cell_type": "code",
   "execution_count": 13,
   "metadata": {},
   "outputs": [
    {
     "name": "stdout",
     "output_type": "stream",
     "text": [
      "[[( 0. ,  0. ) ( 0.2,  0. ) ( 0.4,  0. ) ( 0.6,  0. ) ( 0.8,  0. )\n",
      "  ( 1. ,  0. )]\n",
      " [( 0. ,  0.2) ( 0.2,  0.2) ( 0.4,  0.2) ( 0.6,  0.2) ( 0.8,  0.2)\n",
      "  ( 1. ,  0.2)]\n",
      " [( 0. ,  0.4) ( 0.2,  0.4) ( 0.4,  0.4) ( 0.6,  0.4) ( 0.8,  0.4)\n",
      "  ( 1. ,  0.4)]\n",
      " [( 0. ,  0.6) ( 0.2,  0.6) ( 0.4,  0.6) ( 0.6,  0.6) ( 0.8,  0.6)\n",
      "  ( 1. ,  0.6)]\n",
      " [( 0. ,  0.8) ( 0.2,  0.8) ( 0.4,  0.8) ( 0.6,  0.8) ( 0.8,  0.8)\n",
      "  ( 1. ,  0.8)]\n",
      " [( 0. ,  1. ) ( 0.2,  1. ) ( 0.4,  1. ) ( 0.6,  1. ) ( 0.8,  1. )\n",
      "  ( 1. ,  1. )]]\n"
     ]
    }
   ],
   "source": [
    "Z = np.zeros((6,6), [('x',float),('y',float)])\n",
    "Z['x'], Z['y'] = np.meshgrid(np.linspace(0,1,6),\n",
    "                             np.linspace(0,1,6))\n",
    "print(Z)"
   ]
  },
  {
   "cell_type": "markdown",
   "metadata": {},
   "source": [
    "## Task 13  (1 point).\n",
    "Create a 3D random array of floats and demean array values along each axis"
   ]
  },
  {
   "cell_type": "code",
   "execution_count": 14,
   "metadata": {},
   "outputs": [
    {
     "name": "stdout",
     "output_type": "stream",
     "text": [
      "[[[ 0.53498661  0.94972571  0.00101324]\n",
      "  [ 0.89126829  0.84975174  0.7240092 ]\n",
      "  [ 0.11486717  0.243276    0.04118361]]\n",
      "\n",
      " [[ 0.81130632  0.15859813  0.20797771]\n",
      "  [ 0.83967507  0.6861746   0.68024392]\n",
      "  [ 0.48622771  0.82444198  0.45343141]]\n",
      "\n",
      " [[ 0.27489568  0.0802722   0.80100582]\n",
      "  [ 0.79404424  0.65854446  0.75233013]\n",
      "  [ 0.48152196  0.92620167  0.85976229]]]\n",
      "[[[-1.0143588  -0.9490672  -0.72416329]\n",
      "  [-1.05542467 -1.17350796 -1.03010326]\n",
      "  [-1.14821697 -1.71134294 -1.97047022]]\n",
      "\n",
      " [[-0.73803909 -1.74019478 -0.51719882]\n",
      "  [-1.10701789 -1.3370851  -1.07386854]\n",
      "  [-0.77685643 -1.13017696 -1.55822242]]\n",
      "\n",
      " [[-1.27444973 -1.81852071  0.07582929]\n",
      "  [-1.15264871 -1.36471524 -1.00178233]\n",
      "  [-0.78156218 -1.02841726 -1.15189153]]]\n"
     ]
    }
   ],
   "source": [
    "Z = np.random.rand(3,3,3)\n",
    "print(Z)\n",
    "M0 = Z.mean(axis=0)\n",
    "M1 = Z.mean(axis=1)\n",
    "M2 = Z.mean(axis=2)\n",
    "Z -= M0 + M1 + M2\n",
    "print(Z)"
   ]
  },
  {
   "cell_type": "markdown",
   "metadata": {},
   "source": [
    "## Task 14  (15 points).\n",
    "Check the Bag-of-words dataset from UCI repository (https://archive.ics.uci.edu/ml/datasets/Bag+of+Words). Try to load at least one text collection from the dataset. Explore the collection:\n",
    "\n",
    "1. Provide basic statistics about the collection (e.g. the minimal, maximal and average number of words in a text and etc) (5 points).\n",
    "2. Create a function, which builds a histogram of the N most frequent words in selected text (5 points).\n",
    "3. Create f function, which builds a scatter plot of the N most frequent words against the files, where they can be found (5 points).\n",
    "\n",
    "Since the collection is big, you might run into some trouble with performance. Try to optimize your work by using sparse matrices."
   ]
  },
  {
   "cell_type": "markdown",
   "metadata": {},
   "source": [
    "нужно скачать 5 архивов и закинуть их в папку Homework\n",
    "https://archive.ics.uci.edu/ml/machine-learning-databases/bag-of-words/"
   ]
  },
  {
   "cell_type": "code",
   "execution_count": 15,
   "metadata": {},
   "outputs": [],
   "source": [
    "import pandas as pd"
   ]
  },
  {
   "cell_type": "code",
   "execution_count": 16,
   "metadata": {},
   "outputs": [],
   "source": [
    "#Create a function, which builds a histogram of the N most frequent words in selected text (5 points).\n",
    "def histogramm(df_vocab, df_docword, doc_id, top_n = 10):\n",
    "    if not(doc_id in df_docword['docID'].unique()):\n",
    "        print('Unknown docID')\n",
    "        return\n",
    "    \n",
    "    df_gr = df_docword[df_docword.docID == doc_id].groupby(['wordID'])\\\n",
    "                                                    .agg({'word_Count': 'sum'})\\\n",
    "                                                    .sort_values(by = 'word_Count' ,ascending=False)\n",
    "    di = df_gr.index.values - 1\n",
    "    df_gr['word'] = df_vocab.iloc[di].word.values\n",
    "    plt.rcParams[\"figure.figsize\"] = (20, 15)\n",
    "    sns.set_style(\"whitegrid\")\n",
    "    sns.barplot(x='word_Count', y='word', data=df_gr[:top_n])"
   ]
  },
  {
   "cell_type": "code",
   "execution_count": 17,
   "metadata": {},
   "outputs": [],
   "source": [
    "# Create f function, which builds a scatter plot of the N most \n",
    "# frequent words against the files, where they can be found (5 points).\n",
    "# left - параметро левой границы, так как самые частые встречаются почти везде \n",
    "def most_freq_words(df_vocab, df_docword, top_n, left = 0):\n",
    "    df_freq = df_docword.groupby(['wordID']).agg({'word_Count': 'sum'})\\\n",
    "                                            .sort_values(by = 'word_Count' ,ascending=False)\n",
    "    word = df_freq[left :left + top_n].index.values\n",
    "    doc_id = np.array([], dtype=int)\n",
    "    word_id = np.array([], dtype=int)\n",
    "    for i in word:\n",
    "        doc_id = np.append(doc_id, df_docword[df_docword.wordID == i].docID.values)\n",
    "        word_id = np.append(word_id, df_docword[df_docword.wordID == i].wordID.values)\n",
    "    plt.rcParams[\"figure.figsize\"] = (50,30)\n",
    "    plt.scatter(x = doc_id, y = word_id)"
   ]
  },
  {
   "cell_type": "code",
   "execution_count": 25,
   "metadata": {},
   "outputs": [],
   "source": [
    "def read_data(name_data):\n",
    "    df_vocab = pd.read_csv('https://archive.ics.uci.edu/ml/machine-learning-databases/bag-of-words/vocab.{}.txt'.format(name_data),\n",
    "                           sep=\" \", names=['word'])\n",
    "    df_docword = pd.read_csv('docword.{}.txt'.format(name_data), sep=\" \",\n",
    "                             names=['docID', 'wordID', 'word_Count'],\n",
    "                             skiprows=3, nrows = 2746316,\n",
    "                             dtype=np.int)\n",
    "    df_gr = df_docword.groupby(['docID']).agg({'word_Count': 'sum'})\n",
    "    print('=' * 30)\n",
    "    print(name_data + ':')\n",
    "    print('Semples: ',df_docword.shape[0])\n",
    "    print('Max word in doc:', df_gr.word_Count.max())\n",
    "    print('Min word in doc:', df_gr.word_Count.min())\n",
    "    print('Average count word in doc:', round(df_gr.word_Count.mean()))\n",
    "    print('Median count word in doc:', round(df_gr.word_Count.median()))\n",
    "    print('=' * 30)\n",
    "    return df_vocab, df_docword"
   ]
  },
  {
   "cell_type": "code",
   "execution_count": 26,
   "metadata": {},
   "outputs": [
    {
     "name": "stdout",
     "output_type": "stream",
     "text": [
      "==============================\n",
      "enron:\n",
      "Semples:  3710420\n",
      "Max word in doc: 4873\n",
      "Min word in doc: 11\n",
      "Average count word in doc: 161\n",
      "Median count word in doc: 53\n",
      "==============================\n",
      "==============================\n",
      "kos:\n",
      "Semples:  353160\n",
      "Max word in doc: 670\n",
      "Min word in doc: 25\n",
      "Average count word in doc: 136\n",
      "Median count word in doc: 111\n",
      "==============================\n",
      "==============================\n",
      "nips:\n",
      "Semples:  746316\n",
      "Max word in doc: 2307\n",
      "Min word in doc: 2\n",
      "Average count word in doc: 1288\n",
      "Median count word in doc: 1300\n",
      "==============================\n"
     ]
    }
   ],
   "source": [
    "# read and print simple information about text\n",
    "df_vocab_enron, df_docword_enron = read_data('enron')\n",
    "df_vocab_kos, df_docword_kos = read_data('kos')\n",
    "df_vocab_nips, df_docword_nips = read_data('nips')\n",
    "# df_vocab_nytimes, df_docword_nytimes = read_data('nytimes')\n",
    "# df_vocab_pubmed, df_docword_pubmed = read_data('pubmed')"
   ]
  },
  {
   "cell_type": "code",
   "execution_count": 13,
   "metadata": {},
   "outputs": [
    {
     "ename": "AttributeError",
     "evalue": "module 'numpy.random' has no attribute 'choise'",
     "output_type": "error",
     "traceback": [
      "\u001b[0;31m---------------------------------------------------------------------------\u001b[0m",
      "\u001b[0;31mAttributeError\u001b[0m                            Traceback (most recent call last)",
      "\u001b[0;32m<ipython-input-13-7ff6bfeb4f91>\u001b[0m in \u001b[0;36m<module>\u001b[0;34m()\u001b[0m\n\u001b[0;32m----> 1\u001b[0;31m \u001b[0mdoc_id\u001b[0m \u001b[0;34m=\u001b[0m \u001b[0mnp\u001b[0m\u001b[0;34m.\u001b[0m\u001b[0mrandom\u001b[0m\u001b[0;34m.\u001b[0m\u001b[0mchoise\u001b[0m\u001b[0;34m(\u001b[0m\u001b[0mdf_docword_enron\u001b[0m\u001b[0;34m.\u001b[0m\u001b[0mdocID\u001b[0m\u001b[0;34m.\u001b[0m\u001b[0munique\u001b[0m\u001b[0;34m(\u001b[0m\u001b[0;34m)\u001b[0m\u001b[0;34m)\u001b[0m\u001b[0;34m\u001b[0m\u001b[0m\n\u001b[0m\u001b[1;32m      2\u001b[0m \u001b[0mhistogramm\u001b[0m\u001b[0;34m(\u001b[0m\u001b[0mdf_vocab_enron\u001b[0m\u001b[0;34m,\u001b[0m \u001b[0mdf_docword_enron\u001b[0m\u001b[0;34m,\u001b[0m \u001b[0mdoc_id\u001b[0m\u001b[0;34m)\u001b[0m\u001b[0;34m\u001b[0m\u001b[0m\n",
      "\u001b[0;31mAttributeError\u001b[0m: module 'numpy.random' has no attribute 'choise'"
     ]
    }
   ],
   "source": [
    "doc_id = np.random.choise(df_docword_enron.docID.unique())\n",
    "histogramm(df_vocab_enron, df_docword_enron, doc_id)"
   ]
  },
  {
   "cell_type": "code",
   "execution_count": null,
   "metadata": {},
   "outputs": [],
   "source": [
    "doc_id = np.random.choise(df_docword_kos.docID.unique())\n",
    "histogramm(df_vocab_kos, df_docword_kos, doc_id)"
   ]
  },
  {
   "cell_type": "code",
   "execution_count": null,
   "metadata": {},
   "outputs": [],
   "source": [
    "doc_id = np.random.choise(df_docword_nips.docID.unique())\n",
    "histogramm(df_vocab_nips, df_docword_nips, doc_id)"
   ]
  },
  {
   "cell_type": "code",
   "execution_count": null,
   "metadata": {},
   "outputs": [],
   "source": [
    "# ТАм ужасно большие файлы их даже на ноуте просто открыть не смог, поэтому читаю всего лишь \n",
    "# doc_id = np.random.choise(df_docword_nytimes.docID.unique())\n",
    "# histogramm(df_vocab_nytimes, df_docword_nytimes, doc_id)"
   ]
  },
  {
   "cell_type": "code",
   "execution_count": null,
   "metadata": {},
   "outputs": [],
   "source": [
    "# doc_id = np.random.choise(df_docword_pubmed.docID.unique())\n",
    "# histogramm(df_vocab_pubmed, df_docword_pubmed, doc_id)"
   ]
  },
  {
   "cell_type": "code",
   "execution_count": null,
   "metadata": {},
   "outputs": [],
   "source": [
    "most_freq_words(df_vocab_enron, df_docword_enron, 4)"
   ]
  },
  {
   "cell_type": "code",
   "execution_count": null,
   "metadata": {},
   "outputs": [],
   "source": [
    "most_freq_words(df_vocab_kos, df_docword_kos, 4)"
   ]
  },
  {
   "cell_type": "code",
   "execution_count": null,
   "metadata": {},
   "outputs": [],
   "source": [
    "most_freq_words(df_vocab_nips, df_docword_nips, 4)"
   ]
  },
  {
   "cell_type": "code",
   "execution_count": null,
   "metadata": {},
   "outputs": [],
   "source": [
    "# most_freq_words(df_vocab_nytimes, df_docword_nytimes, 4)"
   ]
  },
  {
   "cell_type": "code",
   "execution_count": null,
   "metadata": {},
   "outputs": [],
   "source": [
    "# most_freq_words(df_vocab_pubmed, df_docword_pubmed, 4)"
   ]
  }
 ],
 "metadata": {
  "kernelspec": {
   "display_name": "Python 3",
   "language": "python",
   "name": "python3"
  },
  "language_info": {
   "codemirror_mode": {
    "name": "ipython",
    "version": 3
   },
   "file_extension": ".py",
   "mimetype": "text/x-python",
   "name": "python",
   "nbconvert_exporter": "python",
   "pygments_lexer": "ipython3",
   "version": "3.6.4"
  }
 },
 "nbformat": 4,
 "nbformat_minor": 2
}
